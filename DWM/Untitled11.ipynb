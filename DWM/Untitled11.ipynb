{
  "nbformat": 4,
  "nbformat_minor": 0,
  "metadata": {
    "colab": {
      "name": "Untitled11.ipynb",
      "provenance": []
    },
    "kernelspec": {
      "name": "python3",
      "display_name": "Python 3"
    }
  },
  "cells": [
    {
      "cell_type": "code",
      "metadata": {
        "id": "OX1t7XTAhkpE",
        "colab_type": "code",
        "colab": {
          "base_uri": "https://localhost:8080/",
          "height": 206
        },
        "outputId": "f79aca25-8de8-4d38-c0f1-4dbfac31db0c"
      },
      "source": [
        "import pandas as pd\n",
        "data = pd.read_csv(\"stolen.csv\") \n",
        "data.head()"
      ],
      "execution_count": 3,
      "outputs": [
        {
          "output_type": "execute_result",
          "data": {
            "text/html": [
              "<div>\n",
              "<style scoped>\n",
              "    .dataframe tbody tr th:only-of-type {\n",
              "        vertical-align: middle;\n",
              "    }\n",
              "\n",
              "    .dataframe tbody tr th {\n",
              "        vertical-align: top;\n",
              "    }\n",
              "\n",
              "    .dataframe thead th {\n",
              "        text-align: right;\n",
              "    }\n",
              "</style>\n",
              "<table border=\"1\" class=\"dataframe\">\n",
              "  <thead>\n",
              "    <tr style=\"text-align: right;\">\n",
              "      <th></th>\n",
              "      <th>Car No.</th>\n",
              "      <th>Color</th>\n",
              "      <th>Type</th>\n",
              "      <th>Origin</th>\n",
              "      <th>Stolen?</th>\n",
              "    </tr>\n",
              "  </thead>\n",
              "  <tbody>\n",
              "    <tr>\n",
              "      <th>0</th>\n",
              "      <td>1</td>\n",
              "      <td>Red</td>\n",
              "      <td>Sports</td>\n",
              "      <td>Domestic</td>\n",
              "      <td>Yes</td>\n",
              "    </tr>\n",
              "    <tr>\n",
              "      <th>1</th>\n",
              "      <td>2</td>\n",
              "      <td>Red</td>\n",
              "      <td>Sports</td>\n",
              "      <td>Domestic</td>\n",
              "      <td>No</td>\n",
              "    </tr>\n",
              "    <tr>\n",
              "      <th>2</th>\n",
              "      <td>3</td>\n",
              "      <td>Red</td>\n",
              "      <td>Sports</td>\n",
              "      <td>Domestic</td>\n",
              "      <td>Yes</td>\n",
              "    </tr>\n",
              "    <tr>\n",
              "      <th>3</th>\n",
              "      <td>4</td>\n",
              "      <td>Yellow</td>\n",
              "      <td>Sports</td>\n",
              "      <td>Domestic</td>\n",
              "      <td>No</td>\n",
              "    </tr>\n",
              "    <tr>\n",
              "      <th>4</th>\n",
              "      <td>5</td>\n",
              "      <td>Yellow</td>\n",
              "      <td>Sports</td>\n",
              "      <td>Imported</td>\n",
              "      <td>Yes</td>\n",
              "    </tr>\n",
              "  </tbody>\n",
              "</table>\n",
              "</div>"
            ],
            "text/plain": [
              "   Car No.   Color    Type    Origin Stolen?\n",
              "0        1     Red  Sports  Domestic     Yes\n",
              "1        2     Red  Sports  Domestic      No\n",
              "2        3     Red  Sports  Domestic     Yes\n",
              "3        4  Yellow  Sports  Domestic      No\n",
              "4        5  Yellow  Sports  Imported     Yes"
            ]
          },
          "metadata": {
            "tags": []
          },
          "execution_count": 3
        }
      ]
    },
    {
      "cell_type": "code",
      "metadata": {
        "id": "x2l0qQIyiFc9",
        "colab_type": "code",
        "colab": {
          "base_uri": "https://localhost:8080/",
          "height": 260
        },
        "outputId": "e72ec197-e049-497b-a121-991c8d9b70b2"
      },
      "source": [
        "reds=0\n",
        "redn=0\n",
        "yels=0\n",
        "yeln=0\n",
        "spy=0\n",
        "spn=0\n",
        "suvy=0\n",
        "suvn=0\n",
        "domy=0\n",
        "domn=0\n",
        "impy=0\n",
        "impn=0\n",
        "stol=0\n",
        "nstol=0\n",
        "tot=0\n",
        "for i in data.index:\n",
        "  tot=tot+1\n",
        "  if(data['Stolen?'][i]=='Yes'):\n",
        "    if(data['Color'][i]=='Red'):\n",
        "      reds=reds+1\n",
        "    else:\n",
        "      yels=yels+1\n",
        "    if(data['Type'][i]=='Sports'):\n",
        "      spy=spy+1\n",
        "    else:\n",
        "      suvy=suvy+1\n",
        "    if(data['Origin'][i]=='Domestic'):\n",
        "      domy=domy+1\n",
        "    else:\n",
        "      impy=impy+1\n",
        "    stol=stol+1\n",
        "  else:\n",
        "    if(data['Color'][i]=='Red'):\n",
        "      redn=redn+1\n",
        "    else:\n",
        "      yeln=yeln+1\n",
        "    if(data['Type'][i]=='Sports'):\n",
        "      spn=spn+1\n",
        "    else:\n",
        "      suvn=suvn+1\n",
        "    if(data['Origin'][i]=='Domestic'):\n",
        "      domn=domn+1\n",
        "    else:\n",
        "      impn=impn+1\n",
        "    nstol=nstol+1\n",
        "reds=reds/stol\n",
        "redn=redn/nstol\n",
        "yels=yels/stol\n",
        "yeln=yeln/nstol\n",
        "spy=spy/stol\n",
        "spn=spn/nstol\n",
        "suvy=suvy/stol\n",
        "suvn=suvn/nstol\n",
        "domy=domy/stol\n",
        "domn=domn/nstol\n",
        "impy=impy/stol\n",
        "impn=impn/nstol\n",
        "stol=stol/tot\n",
        "nstol=nstol/tot\n",
        "print(\"Probability of red stolen :\",reds)\n",
        "print(\"Probability of red not stolen :\",redn)\n",
        "print(\"Probability of yellow stolen :\",yels)\n",
        "print(\"Probability of yellow not stolen :\",yeln)\n",
        "print(\"Probability of sports stolen :\",spy)\n",
        "print(\"Probability of sports not stolen :\",spn)\n",
        "print(\"Probability of SUV stolen :\",suvy)\n",
        "print(\"Probability of SUV not stolen :\",suvn)\n",
        "print(\"Probability of domestic stolen :\",domy)\n",
        "print(\"Probability of domestic not stolen :\",domn)\n",
        "print(\"Probability of imported stolen :\",impy)\n",
        "print(\"Probability of imported not stolen :\",impn)\n",
        "print(\"Probability of stolen :\",stol)\n",
        "print(\"Probability of not stolen :\",nstol)"
      ],
      "execution_count": 19,
      "outputs": [
        {
          "output_type": "stream",
          "text": [
            "Probability of red stolen : 0.6\n",
            "Probability of red not stolen : 0.4\n",
            "Probability of yellow stolen : 0.4\n",
            "Probability of yellow not stolen : 0.6\n",
            "Probability of sports stolen : 0.8\n",
            "Probability of sports not stolen : 0.4\n",
            "Probability of SUV stolen : 0.2\n",
            "Probability of SUV not stolen : 0.6\n",
            "Probability of domestic stolen : 0.4\n",
            "Probability of domestic not stolen : 0.6\n",
            "Probability of imported stolen : 0.6\n",
            "Probability of imported not stolen : 0.4\n",
            "Probability of stolen : 0.5\n",
            "Probability of not stolen : 0.5\n"
          ],
          "name": "stdout"
        }
      ]
    },
    {
      "cell_type": "code",
      "metadata": {
        "id": "_nm2SmqmmV8g",
        "colab_type": "code",
        "colab": {
          "base_uri": "https://localhost:8080/",
          "height": 121
        },
        "outputId": "5640b4c2-568b-4e7d-cf16-285598d2e4a4"
      },
      "source": [
        "col=input(\"Enter color\")\n",
        "typ=input(\"Enter type\")\n",
        "ori=input(\"Enter origin\")\n",
        "if(col=='Red'):\n",
        "  coly=reds\n",
        "  coln=redn\n",
        "else:\n",
        "  coly=yels\n",
        "  coln=yeln\n",
        "if(typ=='Sports'):\n",
        "  typy=spy\n",
        "  typn=spn\n",
        "else:\n",
        "  typy=suvy\n",
        "  typn=suvn\n",
        "if(ori=='Domestic'):\n",
        "  oriy=domy\n",
        "  orin=domn\n",
        "else:\n",
        "  oriy=impy\n",
        "  orin=impn\n",
        "pstol=coly*typy*oriy*stol\n",
        "pnstol=coln*typn*orin*nstol\n",
        "print(\"Probability of car stolen :\",pstol)\n",
        "print(\"Probability of car not stolen :\",pnstol)\n",
        "if(pstol>pnstol):\n",
        "  print(\"Stolen\")\n",
        "else:\n",
        "  print(\"Not Stolen\")"
      ],
      "execution_count": 20,
      "outputs": [
        {
          "output_type": "stream",
          "text": [
            "Enter colorRed\n",
            "Enter typeSUV\n",
            "Enter originDomestic\n",
            "Probability of car stolen : 0.024\n",
            "Probability of car not stolen : 0.072\n",
            "Not Stolen\n"
          ],
          "name": "stdout"
        }
      ]
    }
  ]
}